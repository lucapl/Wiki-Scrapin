{
 "cells": [
  {
   "cell_type": "markdown",
   "metadata": {},
   "source": [
    "# Wiki Scrapin"
   ]
  },
  {
   "cell_type": "markdown",
   "metadata": {},
   "source": [
    "Wikipedia has an API for accessing random articles, which will help with downloading 1000 articles"
   ]
  },
  {
   "cell_type": "code",
   "execution_count": 50,
   "metadata": {},
   "outputs": [],
   "source": [
    "import requests\n",
    "import bs4\n",
    "import re\n",
    "from time import sleep\n",
    "import random\n",
    "import networkx as nx\n",
    "import nltk\n",
    "from nltk.stem import PorterStemmer\n",
    "from nltk.stem import LancasterStemmer\n",
    "from nltk.stem import WordNetLemmatizer\n",
    "from nltk.corpus import stopwords\n",
    "from nltk.tokenize import word_tokenize, wordpunct_tokenize\n",
    "import pandas as pd\n",
    "from sklearn.feature_extraction.text import CountVectorizer, TfidfVectorizer\n",
    "import numpy as np\n",
    "from scipy.spatial.distance import cosine"
   ]
  },
  {
   "cell_type": "code",
   "execution_count": 34,
   "metadata": {},
   "outputs": [],
   "source": [
    "WIKIPEDIA_RANDOM = 'https://en.wikipedia.org/wiki/Special:Random'"
   ]
  },
  {
   "cell_type": "code",
   "execution_count": 35,
   "metadata": {},
   "outputs": [
    {
     "data": {
      "text/plain": [
       "\"Daddy's Girls (1994 TV series) - Wikipedia\""
      ]
     },
     "execution_count": 35,
     "metadata": {},
     "output_type": "execute_result"
    }
   ],
   "source": [
    "response = requests.get(WIKIPEDIA_RANDOM)\n",
    "parsed = bs4.BeautifulSoup(response.text)\n",
    "parsed.title.string"
   ]
  },
  {
   "cell_type": "code",
   "execution_count": 27,
   "metadata": {},
   "outputs": [],
   "source": [
    "def get_title_and_text(url=WIKIPEDIA_RANDOM):\n",
    "    response = requests.get(url)\n",
    "    parsed = bs4.BeautifulSoup(response.text)\n",
    "    output = \"\"\n",
    "    for p in parsed.select('p'):\n",
    "        output += p.getText()\n",
    "    return parsed.title.string,output"
   ]
  },
  {
   "cell_type": "code",
   "execution_count": 46,
   "metadata": {},
   "outputs": [],
   "source": [
    "def word_stemmer(string):\n",
    "    stops = stopwords.words('english')\n",
    "    return list(filter(lambda s: not s in stops,map(WordNetLemmatizer().lemmatize,word_tokenize(string))))"
   ]
  },
  {
   "cell_type": "code",
   "execution_count": 44,
   "metadata": {},
   "outputs": [
    {
     "data": {
      "text/plain": [
       "'Elio Berenguer Úbeda, known as Elio Berhanyer (20 February 1929 – 24 January 2019) was a Spanish fashion designer who gained several prizes in his career. His designs were worn by actresses such as Ava Gardner and Cyd Charisse and royals like Queen Sofía and Infanta Pilar.\\nBerhanyer was born in Córdoba, Andalusia on 20 February 1929.[1] His father was executed by Nationalist faction at the beginning of the Spanish Civil War.[2] He then moved with his aunt to Seville and later with his uncle, where together with his cousin started to draw the firsts designs.[3] At the age of 17 moved to Madrid.[4]\\nIn 1956, Berhanyer began working as a seamster. After four years of doing this, he opened up his own shop in the cities of Madrid and Barcelona. His name spread quickly and he quickly won the Cadillac House Award for being the best designer of the year. He had a collection that gained recognition in order to win this award. He had upon occasion represented Spain in the International Fashion Week.[4] He has also designed uniforms for Iberia airline, RTVE and the hostesses for the 1982 FIFA World Cup. He taught Fashion at the University of Córdoba.[5]\\nIn 2013, Televisión Española presented a documentary about his career as a design teacher.[6]\\nHe died in Madrid on 24 January 2019 at the age of 89.[7]\\n\\nThis article about a fashion designer is a stub. You can help Wikipedia by expanding it.'"
      ]
     },
     "execution_count": 44,
     "metadata": {},
     "output_type": "execute_result"
    }
   ],
   "source": [
    "example_title,example_text = get_title_and_text()\n",
    "example_text"
   ]
  },
  {
   "cell_type": "code",
   "execution_count": 48,
   "metadata": {},
   "outputs": [
    {
     "data": {
      "text/plain": [
       "244"
      ]
     },
     "execution_count": 48,
     "metadata": {},
     "output_type": "execute_result"
    }
   ],
   "source": [
    "len(example_text.split())"
   ]
  },
  {
   "cell_type": "code",
   "execution_count": 49,
   "metadata": {},
   "outputs": [
    {
     "data": {
      "text/plain": [
       "204"
      ]
     },
     "execution_count": 49,
     "metadata": {},
     "output_type": "execute_result"
    }
   ],
   "source": [
    "word_stemmer(example_text)"
   ]
  }
 ],
 "metadata": {
  "kernelspec": {
   "display_name": "Python 3",
   "language": "python",
   "name": "python3"
  },
  "language_info": {
   "codemirror_mode": {
    "name": "ipython",
    "version": 3
   },
   "file_extension": ".py",
   "mimetype": "text/x-python",
   "name": "python",
   "nbconvert_exporter": "python",
   "pygments_lexer": "ipython3",
   "version": "3.9.6"
  }
 },
 "nbformat": 4,
 "nbformat_minor": 2
}
